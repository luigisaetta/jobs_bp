{
 "cells": [
  {
   "cell_type": "markdown",
   "id": "3f33b288",
   "metadata": {},
   "source": [
    "# Test JOB RUN using REST API calls\n",
    "\n",
    "Test the run of a Data Science job using HTTP REST call"
   ]
  },
  {
   "cell_type": "code",
   "execution_count": 1,
   "id": "e13141af",
   "metadata": {},
   "outputs": [],
   "source": [
    "import requests\n",
    "import oci\n",
    "import os"
   ]
  },
  {
   "cell_type": "code",
   "execution_count": 2,
   "id": "6bf55cde",
   "metadata": {},
   "outputs": [
    {
     "name": "stdout",
     "output_type": "stream",
     "text": [
      "The identifier (name) of the OCI region is: eu-frankfurt-1\n",
      "The Tenancy OCID is: ocid1.tenancy.oc1..aaaaaaaasnh3ttkzdb3rddwsrj7pywwngh67nczg76fyapmuueulgjp24bsa\n",
      "\n",
      "The Notebook Session Compartment OCID is: ocid1.compartment.oc1..aaaaaaaaoxmcrbf3x3kozxkehlontyvtb4vif64vedvkneqv3b6rozumpxzq\n",
      "\n",
      "The Project OCID is: ocid1.datascienceproject.oc1.eu-frankfurt-1.amaaaaaa7egirmqabu25wx2nsuzirbgrubwv5bevbvrmlh2aivtzusz3yaua\n",
      "\n"
     ]
    }
   ],
   "source": [
    "# information to build the BODY of the request\n",
    "print('The identifier (name) of the OCI region is:', os.environ[\"NB_REGION\"])\n",
    "print('The Tenancy OCID is:', os.environ[\"TENANCY_OCID\"])\n",
    "print()\n",
    "print('The Notebook Session Compartment OCID is:', os.environ[\"NB_SESSION_COMPARTMENT_OCID\"])\n",
    "print()\n",
    "print('The Project OCID is:', os.environ[\"PROJECT_OCID\"])\n",
    "print()"
   ]
  },
  {
   "cell_type": "code",
   "execution_count": 3,
   "id": "4a81e4a6",
   "metadata": {},
   "outputs": [
    {
     "name": "stdout",
     "output_type": "stream",
     "text": [
      "{'id': 'ocid1.datasciencejobrun.oc1.eu-frankfurt-1.amaaaaaa7egirmqaxwrbrrlegl2ay2f3fltrze6ygkzdesxsgnxtmwabjrpq', 'timeAccepted': '2021-11-29T14:49:37.450Z', 'timeStarted': None, 'timeFinished': None, 'createdBy': 'ocid1.datasciencenotebooksession.oc1.eu-frankfurt-1.amaaaaaa7egirmqasl57atdlss4lxnyn3iri43mw23ppfankshsewlogscsq', 'projectId': 'ocid1.datascienceproject.oc1.eu-frankfurt-1.amaaaaaa7egirmqabu25wx2nsuzirbgrubwv5bevbvrmlh2aivtzusz3yaua', 'compartmentId': 'ocid1.compartment.oc1..aaaaaaaaoxmcrbf3x3kozxkehlontyvtb4vif64vedvkneqv3b6rozumpxzq', 'jobId': 'ocid1.datasciencejob.oc1.eu-frankfurt-1.amaaaaaa7egirmqamiy6274u5cmqcymrsm2yg6msog57uny6vsemgwtmbe3q', 'displayName': 'Test run 1', 'jobConfigurationOverrideDetails': {'jobType': 'DEFAULT', 'environmentVariables': None, 'commandLineArguments': None, 'maximumRuntimeInMinutes': None}, 'jobInfrastructureConfigurationDetails': {'jobInfrastructureType': 'STANDALONE', 'shapeName': 'VM.Standard2.2', 'subnetId': 'ocid1.subnet.oc1.eu-frankfurt-1.aaaaaaaa2nwzvnnmwssryz6d5foetwfqwfuwjkanexxq452fad536mtn3hqa', 'blockStorageSizeInGBs': 50}, 'jobLogConfigurationOverrideDetails': None, 'logDetails': {'logGroupId': 'ocid1.loggroup.oc1.eu-frankfurt-1.amaaaaaa7egirmqaiqwqog7cq22wqget6nkjhuajb5qhnfaaw35sdyr7fq3q', 'logId': None}, 'lifecycleState': 'ACCEPTED', 'lifecycleDetails': '', 'freeformTags': {}, 'definedTags': {'Oracle-Tags': {'CreatedBy': 'ocid1.datasciencenotebooksession.oc1.eu-frankfurt-1.amaaaaaa7egirmqasl57atdlss4lxnyn3iri43mw23ppfankshsewlogscsq', 'CreatedOn': '2021-11-29T14:49:37.251Z'}}}\n",
      "\n",
      "CPU times: user 831 ms, sys: 18.2 ms, total: 850 ms\n",
      "Wall time: 3.54 s\n"
     ]
    }
   ],
   "source": [
    "%%time\n",
    "\n",
    "# This is the endpoint for every JOBS.... depends on the Cloud Region\n",
    "ENDPOINT = \"https://datascience.eu-frankfurt-1.oci.oraclecloud.com/20190101/jobRuns\"\n",
    "\n",
    "# Using Resource Principal\n",
    "rps = oci.auth.signers.get_resource_principals_signer()\n",
    "\n",
    "# This is the payload to pass in the body\n",
    "# set: projectId, compartmentId, jobId\n",
    "# (the first two can be taken from the cell above)\n",
    "#\n",
    "# this example doesn't change what is defined when job has been created\n",
    "#\n",
    "body = {\n",
    "    \"projectId\": \"ocid1.datascienceproject.oc1.eu-frankfurt-1.amaaaaaa7egirmqabu25wx2nsuzirbgrubwv5bevbvrmlh2aivtzusz3yaua\",\n",
    "    \"compartmentId\": \"ocid1.compartment.oc1..aaaaaaaaoxmcrbf3x3kozxkehlontyvtb4vif64vedvkneqv3b6rozumpxzq\",\n",
    "    \"jobId\": \"ocid1.datasciencejob.oc1.eu-frankfurt-1.amaaaaaa7egirmqamiy6274u5cmqcymrsm2yg6msog57uny6vsemgwtmbe3q\",\n",
    "    \"definedTags\": {},\n",
    "    \"displayName\": \"Test run 1\",\n",
    "    \"freeformTags\": {},\n",
    "    \"jobConfigurationOverrideDetails\": {\n",
    "        \"jobType\": \"DEFAULT\"\n",
    "    }\n",
    "}\n",
    "\n",
    "response = requests.post(ENDPOINT, json=body, auth=rps).json()\n",
    "\n",
    "print(response)\n",
    "print()"
   ]
  },
  {
   "cell_type": "code",
   "execution_count": null,
   "id": "8960398d",
   "metadata": {},
   "outputs": [],
   "source": []
  }
 ],
 "metadata": {
  "kernelspec": {
   "display_name": "Python [conda env:tensorflow27_p37_cpu_v1]",
   "language": "python",
   "name": "conda-env-tensorflow27_p37_cpu_v1-py"
  },
  "language_info": {
   "codemirror_mode": {
    "name": "ipython",
    "version": 3
   },
   "file_extension": ".py",
   "mimetype": "text/x-python",
   "name": "python",
   "nbconvert_exporter": "python",
   "pygments_lexer": "ipython3",
   "version": "3.7.12"
  }
 },
 "nbformat": 4,
 "nbformat_minor": 5
}
