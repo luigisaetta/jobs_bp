{
 "cells": [
  {
   "cell_type": "markdown",
   "id": "f8b4ff1a",
   "metadata": {},
   "source": [
    "### Invoke a JOB using ADS\n",
    "\n",
    "In this Notebook we show how to launch a job run, using ADS SDK\n",
    "\n",
    "The job has already been created"
   ]
  },
  {
   "cell_type": "code",
   "execution_count": 5,
   "id": "bfbfaadf",
   "metadata": {},
   "outputs": [],
   "source": [
    "import ads\n",
    "\n",
    "from ads.jobs import Job"
   ]
  },
  {
   "cell_type": "code",
   "execution_count": 6,
   "id": "f6c2e77f",
   "metadata": {},
   "outputs": [
    {
     "name": "stdout",
     "output_type": "stream",
     "text": [
      "2.5.0\n"
     ]
    }
   ],
   "source": [
    "print(ads.__version__)"
   ]
  },
  {
   "cell_type": "code",
   "execution_count": 7,
   "id": "c774097c",
   "metadata": {},
   "outputs": [],
   "source": [
    "# for ADS we need to set RP as AUTH\n",
    "ads.set_auth(auth='resource_principal')"
   ]
  },
  {
   "cell_type": "code",
   "execution_count": 8,
   "id": "4a9fd2bc",
   "metadata": {},
   "outputs": [
    {
     "data": {
      "text/plain": [
       "[kind: job\n",
       " spec:\n",
       "   id: ocid1.datasciencejob.oc1.eu-frankfurt-1.amaaaaaa7egirmqa6mbyqc56xtc3wc2gnmbpkeyul6r7heo4ecuqo7qtj24a\n",
       "   infrastructure:\n",
       "     kind: infrastructure\n",
       "     spec:\n",
       "       blockStorageSize: 50\n",
       "       compartmentId: ocid1.compartment.oc1..aaaaaaaaoxmcrbf3x3kozxkehlontyvtb4vif64vedvkneqv3b6rozumpxzq\n",
       "       displayName: test_test30\n",
       "       jobInfrastructureType: STANDALONE\n",
       "       jobType: DEFAULT\n",
       "       logGroupId: ocid1.loggroup.oc1.eu-frankfurt-1.amaaaaaa7egirmqaiqwqog7cq22wqget6nkjhuajb5qhnfaaw35sdyr7fq3q\n",
       "       projectId: ocid1.datascienceproject.oc1.eu-frankfurt-1.amaaaaaa7egirmqabu25wx2nsuzirbgrubwv5bevbvrmlh2aivtzusz3yaua\n",
       "       shapeName: VM.Standard2.4\n",
       "       subnetId: ocid1.subnet.oc1.eu-frankfurt-1.aaaaaaaa2nwzvnnmwssryz6d5foetwfqwfuwjkanexxq452fad536mtn3hqa\n",
       "     type: dataScienceJob\n",
       "   name: test_test30\n",
       "   runtime:\n",
       "     kind: runtime\n",
       "     spec:\n",
       "       conda:\n",
       "         slug: tensorflow27_p37_cpu_v1\n",
       "         type: service\n",
       "       scriptPathURI: test30.py\n",
       "     type: script,\n",
       " kind: job\n",
       " spec:\n",
       "   id: ocid1.datasciencejob.oc1.eu-frankfurt-1.amaaaaaa7egirmqamiy6274u5cmqcymrsm2yg6msog57uny6vsemgwtmbe3q\n",
       "   infrastructure:\n",
       "     kind: infrastructure\n",
       "     spec:\n",
       "       blockStorageSize: 50\n",
       "       compartmentId: ocid1.compartment.oc1..aaaaaaaaoxmcrbf3x3kozxkehlontyvtb4vif64vedvkneqv3b6rozumpxzq\n",
       "       displayName: test_jobs1\n",
       "       jobInfrastructureType: STANDALONE\n",
       "       jobType: DEFAULT\n",
       "       logGroupId: ocid1.loggroup.oc1.eu-frankfurt-1.amaaaaaa7egirmqaiqwqog7cq22wqget6nkjhuajb5qhnfaaw35sdyr7fq3q\n",
       "       projectId: ocid1.datascienceproject.oc1.eu-frankfurt-1.amaaaaaa7egirmqabu25wx2nsuzirbgrubwv5bevbvrmlh2aivtzusz3yaua\n",
       "       shapeName: VM.Standard2.2\n",
       "       subnetId: ocid1.subnet.oc1.eu-frankfurt-1.aaaaaaaa2nwzvnnmwssryz6d5foetwfqwfuwjkanexxq452fad536mtn3hqa\n",
       "     type: dataScienceJob\n",
       "   name: test_jobs1\n",
       "   runtime:\n",
       "     kind: runtime\n",
       "     spec:\n",
       "       conda:\n",
       "         slug: tensorflow27_p37_cpu_v1\n",
       "         type: service\n",
       "       scriptPathURI: test_jobs2.py\n",
       "     type: script]"
      ]
     },
     "execution_count": 8,
     "metadata": {},
     "output_type": "execute_result"
    }
   ],
   "source": [
    "# this way we can get the list of defined jobs\n",
    "job = Job()\n",
    "\n",
    "# get the list of JOBS defined in the current Compartment\n",
    "job.datascience_job()"
   ]
  },
  {
   "cell_type": "code",
   "execution_count": 11,
   "id": "4185017a",
   "metadata": {},
   "outputs": [],
   "source": [
    "# attach to a defined job (job30)\n",
    "job30 = Job().from_datascience_job(job_id=\"ocid1.datasciencejob.oc1.eu-frankfurt-1.amaaaaaa7egirmqa6mbyqc56xtc3wc2gnmbpkeyul6r7heo4ecuqo7qtj24a\")"
   ]
  },
  {
   "cell_type": "code",
   "execution_count": 12,
   "id": "d4c9f4c7",
   "metadata": {},
   "outputs": [
    {
     "data": {
      "text/plain": [
       "kind: job\n",
       "spec:\n",
       "  id: ocid1.datasciencejob.oc1.eu-frankfurt-1.amaaaaaa7egirmqa6mbyqc56xtc3wc2gnmbpkeyul6r7heo4ecuqo7qtj24a\n",
       "  infrastructure:\n",
       "    kind: infrastructure\n",
       "    spec:\n",
       "      blockStorageSize: 50\n",
       "      compartmentId: ocid1.compartment.oc1..aaaaaaaaoxmcrbf3x3kozxkehlontyvtb4vif64vedvkneqv3b6rozumpxzq\n",
       "      displayName: test_test30\n",
       "      jobInfrastructureType: STANDALONE\n",
       "      jobType: DEFAULT\n",
       "      logGroupId: ocid1.loggroup.oc1.eu-frankfurt-1.amaaaaaa7egirmqaiqwqog7cq22wqget6nkjhuajb5qhnfaaw35sdyr7fq3q\n",
       "      projectId: ocid1.datascienceproject.oc1.eu-frankfurt-1.amaaaaaa7egirmqabu25wx2nsuzirbgrubwv5bevbvrmlh2aivtzusz3yaua\n",
       "      shapeName: VM.Standard2.4\n",
       "      subnetId: ocid1.subnet.oc1.eu-frankfurt-1.aaaaaaaa2nwzvnnmwssryz6d5foetwfqwfuwjkanexxq452fad536mtn3hqa\n",
       "    type: dataScienceJob\n",
       "  name: test_test30\n",
       "  runtime:\n",
       "    kind: runtime\n",
       "    spec:\n",
       "      conda:\n",
       "        slug: tensorflow27_p37_cpu_v1\n",
       "        type: service\n",
       "      scriptPathURI: test30.py\n",
       "    type: script"
      ]
     },
     "execution_count": 12,
     "metadata": {},
     "output_type": "execute_result"
    }
   ],
   "source": [
    "# check it is the correct one\n",
    "job30"
   ]
  },
  {
   "cell_type": "code",
   "execution_count": 13,
   "id": "480c0940",
   "metadata": {},
   "outputs": [],
   "source": [
    "# launch the job\n",
    "# we don't change the configuration\n",
    "job_run30 = job30.run(name=\"run_run30_2\")"
   ]
  },
  {
   "cell_type": "code",
   "execution_count": 15,
   "id": "e1488abf",
   "metadata": {},
   "outputs": [
    {
     "data": {
      "text/plain": [
       "compartmentId: ocid1.compartment.oc1..aaaaaaaaoxmcrbf3x3kozxkehlontyvtb4vif64vedvkneqv3b6rozumpxzq\n",
       "createdBy: ocid1.datasciencenotebooksession.oc1.eu-frankfurt-1.amaaaaaa7egirmqasl57atdlss4lxnyn3iri43mw23ppfankshsewlogscsq\n",
       "definedTags:\n",
       "  Oracle-Tags:\n",
       "    CreatedBy: ocid1.datasciencenotebooksession.oc1.eu-frankfurt-1.amaaaaaa7egirmqasl57atdlss4lxnyn3iri43mw23ppfankshsewlogscsq\n",
       "    CreatedOn: '2021-11-30T10:07:45.211Z'\n",
       "displayName: run_run30_2\n",
       "id: ocid1.datasciencejobrun.oc1.eu-frankfurt-1.amaaaaaa7egirmqa43xbajtl7ofkgdgmyfrypyabe6wzbnd3xvlqhb4drezq\n",
       "jobConfigurationOverrideDetails:\n",
       "  jobType: DEFAULT\n",
       "jobId: ocid1.datasciencejob.oc1.eu-frankfurt-1.amaaaaaa7egirmqa6mbyqc56xtc3wc2gnmbpkeyul6r7heo4ecuqo7qtj24a\n",
       "jobInfrastructureConfigurationDetails:\n",
       "  blockStorageSizeInGBs: 50\n",
       "  jobInfrastructureType: STANDALONE\n",
       "  shapeName: VM.Standard2.4\n",
       "  subnetId: ocid1.subnet.oc1.eu-frankfurt-1.aaaaaaaa2nwzvnnmwssryz6d5foetwfqwfuwjkanexxq452fad536mtn3hqa\n",
       "lifecycleState: ACCEPTED\n",
       "logDetails:\n",
       "  logGroupId: ocid1.loggroup.oc1.eu-frankfurt-1.amaaaaaa7egirmqaiqwqog7cq22wqget6nkjhuajb5qhnfaaw35sdyr7fq3q\n",
       "projectId: ocid1.datascienceproject.oc1.eu-frankfurt-1.amaaaaaa7egirmqabu25wx2nsuzirbgrubwv5bevbvrmlh2aivtzusz3yaua\n",
       "timeAccepted: '2021-11-30T10:07:45.576000Z'"
      ]
     },
     "execution_count": 15,
     "metadata": {},
     "output_type": "execute_result"
    }
   ],
   "source": [
    "job_run30"
   ]
  },
  {
   "cell_type": "code",
   "execution_count": null,
   "id": "0e9f1112",
   "metadata": {},
   "outputs": [],
   "source": []
  }
 ],
 "metadata": {
  "kernelspec": {
   "display_name": "Python [conda env:tensorflow27_p37_cpu_v1]",
   "language": "python",
   "name": "conda-env-tensorflow27_p37_cpu_v1-py"
  },
  "language_info": {
   "codemirror_mode": {
    "name": "ipython",
    "version": 3
   },
   "file_extension": ".py",
   "mimetype": "text/x-python",
   "name": "python",
   "nbconvert_exporter": "python",
   "pygments_lexer": "ipython3",
   "version": "3.7.12"
  }
 },
 "nbformat": 4,
 "nbformat_minor": 5
}
