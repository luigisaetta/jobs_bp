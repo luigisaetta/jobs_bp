{
 "cells": [
  {
   "cell_type": "markdown",
   "id": "ee352838",
   "metadata": {},
   "source": [
    "### Test ADS for JOBS"
   ]
  },
  {
   "cell_type": "code",
   "execution_count": 1,
   "id": "2b5d6ef3",
   "metadata": {},
   "outputs": [],
   "source": [
    "import ads\n",
    "\n",
    "from ads.jobs import Job"
   ]
  },
  {
   "cell_type": "code",
   "execution_count": 2,
   "id": "69ea96a8",
   "metadata": {},
   "outputs": [
    {
     "name": "stdout",
     "output_type": "stream",
     "text": [
      "2.5.0\n"
     ]
    }
   ],
   "source": [
    "print(ads.__version__)"
   ]
  },
  {
   "cell_type": "code",
   "execution_count": 3,
   "id": "f627d79c",
   "metadata": {},
   "outputs": [],
   "source": [
    "# for ADS we need to set RP as AUTH\n",
    "ads.set_auth(auth='resource_principal')"
   ]
  },
  {
   "cell_type": "code",
   "execution_count": 4,
   "id": "f7db2a50",
   "metadata": {},
   "outputs": [
    {
     "data": {
      "text/plain": [
       "[kind: job\n",
       " spec:\n",
       "   id: ocid1.datasciencejob.oc1.eu-frankfurt-1.amaaaaaa7egirmqamiy6274u5cmqcymrsm2yg6msog57uny6vsemgwtmbe3q\n",
       "   infrastructure:\n",
       "     kind: infrastructure\n",
       "     spec:\n",
       "       blockStorageSize: 50\n",
       "       compartmentId: ocid1.compartment.oc1..aaaaaaaaoxmcrbf3x3kozxkehlontyvtb4vif64vedvkneqv3b6rozumpxzq\n",
       "       displayName: test_jobs1\n",
       "       jobInfrastructureType: STANDALONE\n",
       "       jobType: DEFAULT\n",
       "       logGroupId: ocid1.loggroup.oc1.eu-frankfurt-1.amaaaaaa7egirmqaiqwqog7cq22wqget6nkjhuajb5qhnfaaw35sdyr7fq3q\n",
       "       projectId: ocid1.datascienceproject.oc1.eu-frankfurt-1.amaaaaaa7egirmqabu25wx2nsuzirbgrubwv5bevbvrmlh2aivtzusz3yaua\n",
       "       shapeName: VM.Standard2.2\n",
       "       subnetId: ocid1.subnet.oc1.eu-frankfurt-1.aaaaaaaa2nwzvnnmwssryz6d5foetwfqwfuwjkanexxq452fad536mtn3hqa\n",
       "     type: dataScienceJob\n",
       "   name: test_jobs1\n",
       "   runtime:\n",
       "     kind: runtime\n",
       "     spec:\n",
       "       conda:\n",
       "         slug: tensorflow27_p37_cpu_v1\n",
       "         type: service\n",
       "       scriptPathURI: test_jobs2.py\n",
       "     type: script]"
      ]
     },
     "execution_count": 4,
     "metadata": {},
     "output_type": "execute_result"
    }
   ],
   "source": [
    "job = Job()\n",
    "\n",
    "# get the list of JOBS defined in the current Compartment\n",
    "job.datascience_job()"
   ]
  },
  {
   "cell_type": "code",
   "execution_count": null,
   "id": "0ff1b944",
   "metadata": {},
   "outputs": [],
   "source": []
  }
 ],
 "metadata": {
  "kernelspec": {
   "display_name": "Python [conda env:tensorflow27_p37_cpu_v1]",
   "language": "python",
   "name": "conda-env-tensorflow27_p37_cpu_v1-py"
  },
  "language_info": {
   "codemirror_mode": {
    "name": "ipython",
    "version": 3
   },
   "file_extension": ".py",
   "mimetype": "text/x-python",
   "name": "python",
   "nbconvert_exporter": "python",
   "pygments_lexer": "ipython3",
   "version": "3.7.12"
  }
 },
 "nbformat": 4,
 "nbformat_minor": 5
}
